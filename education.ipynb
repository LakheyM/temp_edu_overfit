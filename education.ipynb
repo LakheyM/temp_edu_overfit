{
 "cells": [
  {
   "cell_type": "code",
   "execution_count": 1,
   "metadata": {
    "collapsed": true
   },
   "outputs": [],
   "source": [
    "#Imports\n",
    "from bs4 import BeautifulSoup\n",
    "import requests\n",
    "import pandas as pd"
   ]
  },
  {
   "cell_type": "code",
   "execution_count": 2,
   "metadata": {
    "collapsed": true
   },
   "outputs": [],
   "source": [
    "#pullinng raw data from un site\n",
    "#r contains the all the data\n",
    "url = ('http://web.archive.org/web/20110514112442/http://unstats.un.org/unsd/demographic/products/socind/education.htm')\n",
    "r= requests.get(url)"
   ]
  },
  {
   "cell_type": "code",
   "execution_count": 3,
   "metadata": {
    "collapsed": false,
    "scrolled": true
   },
   "outputs": [],
   "source": [
    "#intializing soup and saving desired items in thelist from the soup\n",
    "soup=BeautifulSoup(r.content, 'lxml')\n",
    "#for row in soup('table'): #testing\n",
    "    #print(row)\n",
    "thelist = soup.findAll('tr', attrs=('class', 'tcont'))"
   ]
  },
  {
   "cell_type": "code",
   "execution_count": 4,
   "metadata": {
    "collapsed": false,
    "scrolled": true
   },
   "outputs": [],
   "source": [
    "#scrapData a dataframe with desired columns\n",
    "scrapData=pd.DataFrame(columns=['country', 'year', 'avg', 'male', 'female'])"
   ]
  },
  {
   "cell_type": "code",
   "execution_count": 5,
   "metadata": {
    "collapsed": false
   },
   "outputs": [
    {
     "data": {
      "text/html": [
       "<div>\n",
       "<table border=\"1\" class=\"dataframe\">\n",
       "  <thead>\n",
       "    <tr style=\"text-align: right;\">\n",
       "      <th></th>\n",
       "      <th>country</th>\n",
       "      <th>year</th>\n",
       "      <th>avg</th>\n",
       "      <th>male</th>\n",
       "      <th>female</th>\n",
       "    </tr>\n",
       "  </thead>\n",
       "  <tbody>\n",
       "  </tbody>\n",
       "</table>\n",
       "</div>"
      ],
      "text/plain": [
       "Empty DataFrame\n",
       "Columns: [country, year, avg, male, female]\n",
       "Index: []"
      ]
     },
     "execution_count": 5,
     "metadata": {},
     "output_type": "execute_result"
    }
   ],
   "source": [
    "scrapData.head()"
   ]
  },
  {
   "cell_type": "code",
   "execution_count": 34,
   "metadata": {
    "collapsed": false
   },
   "outputs": [],
   "source": [
    "#selecting only the rows which contains data\n",
    "#printing the info in seperate columns\n",
    "rows=soup.findAll('tr')[18:-11]\n",
    "for row in rows:\n",
    "    col=row.findAll('td')\n",
    "    #print (col[0].text, int(col[1].text), int(col[4].text), int(col[7].text), int(col[10].text)) "
   ]
  },
  {
   "cell_type": "code",
   "execution_count": 7,
   "metadata": {
    "collapsed": false,
    "scrolled": true
   },
   "outputs": [],
   "source": [
    "#Finally putting data into dataframe\n",
    "\n",
    "k=0\n",
    "for row in rows:\n",
    "    col=row.findAll('td')\n",
    "    scrapData.loc[k] = (col[0].text, int(col[1].text), int(col[4].text), int(col[7].text), int(col[10].text))  #works fine\n",
    "    k+=1\n",
    "    "
   ]
  },
  {
   "cell_type": "code",
   "execution_count": 8,
   "metadata": {
    "collapsed": false,
    "scrolled": true
   },
   "outputs": [
    {
     "data": {
      "text/html": [
       "<div>\n",
       "<table border=\"1\" class=\"dataframe\">\n",
       "  <thead>\n",
       "    <tr style=\"text-align: right;\">\n",
       "      <th></th>\n",
       "      <th>country</th>\n",
       "      <th>year</th>\n",
       "      <th>avg</th>\n",
       "      <th>male</th>\n",
       "      <th>female</th>\n",
       "    </tr>\n",
       "  </thead>\n",
       "  <tbody>\n",
       "    <tr>\n",
       "      <th>0</th>\n",
       "      <td>Afghanistan</td>\n",
       "      <td>2004.0</td>\n",
       "      <td>8.0</td>\n",
       "      <td>11.0</td>\n",
       "      <td>5.0</td>\n",
       "    </tr>\n",
       "    <tr>\n",
       "      <th>1</th>\n",
       "      <td>Albania</td>\n",
       "      <td>2004.0</td>\n",
       "      <td>11.0</td>\n",
       "      <td>11.0</td>\n",
       "      <td>11.0</td>\n",
       "    </tr>\n",
       "    <tr>\n",
       "      <th>2</th>\n",
       "      <td>Algeria</td>\n",
       "      <td>2005.0</td>\n",
       "      <td>13.0</td>\n",
       "      <td>13.0</td>\n",
       "      <td>13.0</td>\n",
       "    </tr>\n",
       "    <tr>\n",
       "      <th>3</th>\n",
       "      <td>Andorra</td>\n",
       "      <td>2008.0</td>\n",
       "      <td>11.0</td>\n",
       "      <td>11.0</td>\n",
       "      <td>12.0</td>\n",
       "    </tr>\n",
       "    <tr>\n",
       "      <th>4</th>\n",
       "      <td>Anguilla</td>\n",
       "      <td>2008.0</td>\n",
       "      <td>11.0</td>\n",
       "      <td>11.0</td>\n",
       "      <td>11.0</td>\n",
       "    </tr>\n",
       "  </tbody>\n",
       "</table>\n",
       "</div>"
      ],
      "text/plain": [
       "       country    year   avg  male  female\n",
       "0  Afghanistan  2004.0   8.0  11.0     5.0\n",
       "1      Albania  2004.0  11.0  11.0    11.0\n",
       "2      Algeria  2005.0  13.0  13.0    13.0\n",
       "3      Andorra  2008.0  11.0  11.0    12.0\n",
       "4     Anguilla  2008.0  11.0  11.0    11.0"
      ]
     },
     "execution_count": 8,
     "metadata": {},
     "output_type": "execute_result"
    }
   ],
   "source": [
    "scrapData.head()"
   ]
  },
  {
   "cell_type": "code",
   "execution_count": 9,
   "metadata": {
    "collapsed": false,
    "scrolled": true
   },
   "outputs": [
    {
     "data": {
      "text/html": [
       "<div>\n",
       "<table border=\"1\" class=\"dataframe\">\n",
       "  <thead>\n",
       "    <tr style=\"text-align: right;\">\n",
       "      <th></th>\n",
       "      <th>country</th>\n",
       "      <th>year</th>\n",
       "      <th>avg</th>\n",
       "      <th>male</th>\n",
       "      <th>female</th>\n",
       "    </tr>\n",
       "  </thead>\n",
       "  <tbody>\n",
       "    <tr>\n",
       "      <th>178</th>\n",
       "      <td>Venezuela (Bolivarian Republic of)</td>\n",
       "      <td>2008.0</td>\n",
       "      <td>14.0</td>\n",
       "      <td>13.0</td>\n",
       "      <td>15.0</td>\n",
       "    </tr>\n",
       "    <tr>\n",
       "      <th>179</th>\n",
       "      <td>Viet Nam</td>\n",
       "      <td>2001.0</td>\n",
       "      <td>10.0</td>\n",
       "      <td>11.0</td>\n",
       "      <td>10.0</td>\n",
       "    </tr>\n",
       "    <tr>\n",
       "      <th>180</th>\n",
       "      <td>Yemen</td>\n",
       "      <td>2005.0</td>\n",
       "      <td>9.0</td>\n",
       "      <td>11.0</td>\n",
       "      <td>7.0</td>\n",
       "    </tr>\n",
       "    <tr>\n",
       "      <th>181</th>\n",
       "      <td>Zambia</td>\n",
       "      <td>2000.0</td>\n",
       "      <td>7.0</td>\n",
       "      <td>8.0</td>\n",
       "      <td>7.0</td>\n",
       "    </tr>\n",
       "    <tr>\n",
       "      <th>182</th>\n",
       "      <td>Zimbabwe</td>\n",
       "      <td>2003.0</td>\n",
       "      <td>9.0</td>\n",
       "      <td>9.0</td>\n",
       "      <td>9.0</td>\n",
       "    </tr>\n",
       "  </tbody>\n",
       "</table>\n",
       "</div>"
      ],
      "text/plain": [
       "                                country    year   avg  male  female\n",
       "178  Venezuela (Bolivarian Republic of)  2008.0  14.0  13.0    15.0\n",
       "179                            Viet Nam  2001.0  10.0  11.0    10.0\n",
       "180                               Yemen  2005.0   9.0  11.0     7.0\n",
       "181                              Zambia  2000.0   7.0   8.0     7.0\n",
       "182                            Zimbabwe  2003.0   9.0   9.0     9.0"
      ]
     },
     "execution_count": 9,
     "metadata": {},
     "output_type": "execute_result"
    }
   ],
   "source": [
    "scrapData.tail()"
   ]
  },
  {
   "cell_type": "code",
   "execution_count": 10,
   "metadata": {
    "collapsed": true
   },
   "outputs": [],
   "source": [
    "#To save into sqlite\n",
    "#pandas.DataFrame(full_data_list).to_sql('test', con, flavor='sqlite',\n",
    "                #schema=None, if_exists='replace', index=True,\n",
    "                #index_label=None, chunksize=None, dtype=None)"
   ]
  },
  {
   "cell_type": "code",
   "execution_count": 11,
   "metadata": {
    "collapsed": false
   },
   "outputs": [],
   "source": [
    "scrapData.to_sql('school_years', con, flavor='sqlite', schema=None, if_exists='replace', index=True, index_label=None, chunksize=None, dtype=None)"
   ]
  },
  {
   "cell_type": "code",
   "execution_count": 11,
   "metadata": {
    "collapsed": false
   },
   "outputs": [],
   "source": [
    "import sqlite3 as lite\n",
    "con = lite.connect('C:\\\\sqlite3\\\\education.db')\n",
    "cur = con.cursor()\n",
    "#con.close()  #database closed not to reenter additional datas"
   ]
  },
  {
   "cell_type": "code",
   "execution_count": 2,
   "metadata": {
    "collapsed": true
   },
   "outputs": [],
   "source": [
    "#creating a table\n",
    "#with con:\n",
    "    #cur.execute('CREATE TABLE gdp(country_name TEXT, _1999 REAL, _2000 REAL, _2001 REAL, _2002 REAL, _2003 REAL, _2004 REAL, _2005 REAL, _2006 REAL, _2007 REAL, _2008 REAL, _2009 REAL, _2010 REAL);' )"
   ]
  },
  {
   "cell_type": "code",
   "execution_count": null,
   "metadata": {
    "collapsed": true
   },
   "outputs": [],
   "source": [
    "#cur.execute('INSERT INTO gdp (country_name, _1999, _2000, _2001, _2002, _2003, _2004, _2005, _2006, _2007, _2008, _2009, _2010) VALUES (\"' + line[0] + '\",\"' + '\",\"'.join(line[42:-5]) + '\");')\n",
    "        #print ((\"' + line[0] + '\", \"' + ''\", \"'.join(line[42:-5]) + '\"))\n",
    "        #with con\n",
    "        #print (line [0])\n",
    "        #print (line[42:-5])\n",
    "        #print(\"lines above did execute\")\n",
    "        #print (line[43:-6])"
   ]
  },
  {
   "cell_type": "code",
   "execution_count": 17,
   "metadata": {
    "collapsed": false,
    "scrolled": false
   },
   "outputs": [
    {
     "data": {
      "text/plain": [
       "'\\nimport csv\\n\\n#with open(\\'ny.gdp.mktp.cd_Indicator_en_csv_v2/ny.gdp.mktp.cd_Indicator_en_csv_v2.csv\\',\\'rU\\') as inputFile:\\n#C:\\\\Users\\\\Mnsh\\\\Documents\\\\GitHub\\\\Thinkful_downloads\\\\GDP\\nwith open(\\'C:\\\\Users\\\\Mnsh\\\\Documents\\\\GitHub\\\\Thinkful_downloads\\\\GDP.csv\\',\\'rU\\') as inputFile: \\n    print(next(inputFile))\\n    print(next(inputFile))\\n    print(next(inputFile))\\n    print(next(inputFile))\\n    header = (next(inputFile))  #table heading is at 5th row\\n    inputReader = csv.reader(inputFile)\\n    for line in inputReader:\\n        with con:        \\n            cur.execute(\\'INSERT INTO gdp (country_name, _1999, _2000, _2001, _2002, _2003, _2004, _2005, _2006, _2007, _2008, _2009, _2010) VALUES (\"\\' + line[0] + \\'\",\"\\' + \\'\",\"\\'.join(line[43:-6]) + \\'\");\\')\\ncon.close()   '"
      ]
     },
     "execution_count": 17,
     "metadata": {},
     "output_type": "execute_result"
    }
   ],
   "source": [
    "#import warnings\n",
    "#warnings.filterwarnings(\"ignore\", category=DeprecationWarning) \n",
    "\n",
    "import csv\n",
    "\n",
    "#with open('ny.gdp.mktp.cd_Indicator_en_csv_v2/ny.gdp.mktp.cd_Indicator_en_csv_v2.csv','rU') as inputFile:\n",
    "#C:\\\\Users\\\\Mnsh\\\\Documents\\\\GitHub\\\\Thinkful_downloads\\\\GDP\n",
    "with open('C:\\\\Users\\\\Mnsh\\\\Documents\\\\GitHub\\\\Thinkful_downloads\\\\GDP.csv','rU') as inputFile: \n",
    "    print(next(inputFile))\n",
    "    print(next(inputFile))\n",
    "    print(next(inputFile))\n",
    "    print(next(inputFile))\n",
    "    header = (next(inputFile))  #table heading is at 5th row\n",
    "    inputReader = csv.reader(inputFile)\n",
    "    for line in inputReader:\n",
    "        with con:        \n",
    "            cur.execute('INSERT INTO gdp (country_name, _1999, _2000, _2001, _2002, _2003, _2004, _2005, _2006, _2007, _2008, _2009, _2010) VALUES (\"' + line[0] + '\",\"' + '\",\"'.join(line[43:-6]) + '\");')\n",
    "con.close()     "
   ]
  },
  {
   "cell_type": "code",
   "execution_count": 18,
   "metadata": {
    "collapsed": false
   },
   "outputs": [
    {
     "data": {
      "text/html": [
       "<div>\n",
       "<table border=\"1\" class=\"dataframe\">\n",
       "  <thead>\n",
       "    <tr style=\"text-align: right;\">\n",
       "      <th></th>\n",
       "      <th>country_name</th>\n",
       "      <th>_1999</th>\n",
       "      <th>_2000</th>\n",
       "      <th>_2001</th>\n",
       "      <th>_2002</th>\n",
       "      <th>_2003</th>\n",
       "      <th>_2004</th>\n",
       "      <th>_2005</th>\n",
       "      <th>_2006</th>\n",
       "      <th>_2007</th>\n",
       "      <th>_2008</th>\n",
       "      <th>_2009</th>\n",
       "      <th>_2010</th>\n",
       "    </tr>\n",
       "  </thead>\n",
       "  <tbody>\n",
       "    <tr>\n",
       "      <th>0</th>\n",
       "      <td>Aruba</td>\n",
       "      <td>1.7228e+09</td>\n",
       "      <td>1.87345e+09</td>\n",
       "      <td>1.92026e+09</td>\n",
       "      <td>1.94109e+09</td>\n",
       "      <td>2.0213e+09</td>\n",
       "      <td>2.22828e+09</td>\n",
       "      <td>2.33101e+09</td>\n",
       "      <td>2.42147e+09</td>\n",
       "      <td>2.62373e+09</td>\n",
       "      <td>2.79196e+09</td>\n",
       "      <td>2.49893e+09</td>\n",
       "      <td>2.4677e+09</td>\n",
       "    </tr>\n",
       "    <tr>\n",
       "      <th>1</th>\n",
       "      <td>Andorra</td>\n",
       "      <td>1.23984e+09</td>\n",
       "      <td>1.40169e+09</td>\n",
       "      <td>1.484e+09</td>\n",
       "      <td>1.71756e+09</td>\n",
       "      <td>2.37384e+09</td>\n",
       "      <td>2.91691e+09</td>\n",
       "      <td>3.24813e+09</td>\n",
       "      <td>3.53645e+09</td>\n",
       "      <td>4.01079e+09</td>\n",
       "      <td>4.00135e+09</td>\n",
       "      <td>3.64986e+09</td>\n",
       "      <td>3.34632e+09</td>\n",
       "    </tr>\n",
       "    <tr>\n",
       "      <th>2</th>\n",
       "      <td>Afghanistan</td>\n",
       "      <td></td>\n",
       "      <td></td>\n",
       "      <td>2.46167e+09</td>\n",
       "      <td>4.12882e+09</td>\n",
       "      <td>4.58365e+09</td>\n",
       "      <td>5.28546e+09</td>\n",
       "      <td>6.27508e+09</td>\n",
       "      <td>7.0576e+09</td>\n",
       "      <td>9.84384e+09</td>\n",
       "      <td>1.01905e+10</td>\n",
       "      <td>1.24869e+10</td>\n",
       "      <td>1.59368e+10</td>\n",
       "    </tr>\n",
       "    <tr>\n",
       "      <th>3</th>\n",
       "      <td>Angola</td>\n",
       "      <td>6.15294e+09</td>\n",
       "      <td>9.12963e+09</td>\n",
       "      <td>8.93606e+09</td>\n",
       "      <td>1.52856e+10</td>\n",
       "      <td>1.78127e+10</td>\n",
       "      <td>2.3552e+10</td>\n",
       "      <td>3.69709e+10</td>\n",
       "      <td>5.2381e+10</td>\n",
       "      <td>6.52665e+10</td>\n",
       "      <td>8.85386e+10</td>\n",
       "      <td>7.31579e+10</td>\n",
       "      <td>8.33695e+10</td>\n",
       "    </tr>\n",
       "    <tr>\n",
       "      <th>4</th>\n",
       "      <td>Albania</td>\n",
       "      <td>3.41476e+09</td>\n",
       "      <td>3.63204e+09</td>\n",
       "      <td>4.06076e+09</td>\n",
       "      <td>4.43508e+09</td>\n",
       "      <td>5.74695e+09</td>\n",
       "      <td>7.31487e+09</td>\n",
       "      <td>8.15855e+09</td>\n",
       "      <td>8.99264e+09</td>\n",
       "      <td>1.0701e+10</td>\n",
       "      <td>1.28814e+10</td>\n",
       "      <td>1.20442e+10</td>\n",
       "      <td>1.1927e+10</td>\n",
       "    </tr>\n",
       "  </tbody>\n",
       "</table>\n",
       "</div>"
      ],
      "text/plain": [
       "  country_name        _1999        _2000        _2001        _2002  \\\n",
       "0        Aruba   1.7228e+09  1.87345e+09  1.92026e+09  1.94109e+09   \n",
       "1      Andorra  1.23984e+09  1.40169e+09    1.484e+09  1.71756e+09   \n",
       "2  Afghanistan                            2.46167e+09  4.12882e+09   \n",
       "3       Angola  6.15294e+09  9.12963e+09  8.93606e+09  1.52856e+10   \n",
       "4      Albania  3.41476e+09  3.63204e+09  4.06076e+09  4.43508e+09   \n",
       "\n",
       "         _2003        _2004        _2005        _2006        _2007  \\\n",
       "0   2.0213e+09  2.22828e+09  2.33101e+09  2.42147e+09  2.62373e+09   \n",
       "1  2.37384e+09  2.91691e+09  3.24813e+09  3.53645e+09  4.01079e+09   \n",
       "2  4.58365e+09  5.28546e+09  6.27508e+09   7.0576e+09  9.84384e+09   \n",
       "3  1.78127e+10   2.3552e+10  3.69709e+10   5.2381e+10  6.52665e+10   \n",
       "4  5.74695e+09  7.31487e+09  8.15855e+09  8.99264e+09   1.0701e+10   \n",
       "\n",
       "         _2008        _2009        _2010  \n",
       "0  2.79196e+09  2.49893e+09   2.4677e+09  \n",
       "1  4.00135e+09  3.64986e+09  3.34632e+09  \n",
       "2  1.01905e+10  1.24869e+10  1.59368e+10  \n",
       "3  8.85386e+10  7.31579e+10  8.33695e+10  \n",
       "4  1.28814e+10  1.20442e+10   1.1927e+10  "
      ]
     },
     "execution_count": 18,
     "metadata": {},
     "output_type": "execute_result"
    }
   ],
   "source": [
    "#reading from sql dbase\n",
    "import pandas as pd\n",
    "sql_gdp= \"SELECT * FROM gdp\"\n",
    "sql_edu= \"SELECT * FROM school_years\"\n",
    "\n",
    "gdpData = pd.read_sql(sql_gdp, con)\n",
    "gdpData.head()\n"
   ]
  },
  {
   "cell_type": "code",
   "execution_count": 19,
   "metadata": {
    "collapsed": false,
    "scrolled": true
   },
   "outputs": [
    {
     "data": {
      "text/html": [
       "<div>\n",
       "<table border=\"1\" class=\"dataframe\">\n",
       "  <thead>\n",
       "    <tr style=\"text-align: right;\">\n",
       "      <th></th>\n",
       "      <th>country_name</th>\n",
       "      <th>2008</th>\n",
       "    </tr>\n",
       "  </thead>\n",
       "  <tbody>\n",
       "    <tr>\n",
       "      <th>0</th>\n",
       "      <td>Aruba</td>\n",
       "      <td>2.791961e+09</td>\n",
       "    </tr>\n",
       "    <tr>\n",
       "      <th>1</th>\n",
       "      <td>Andorra</td>\n",
       "      <td>4.001349e+09</td>\n",
       "    </tr>\n",
       "    <tr>\n",
       "      <th>2</th>\n",
       "      <td>Afghanistan</td>\n",
       "      <td>1.019053e+10</td>\n",
       "    </tr>\n",
       "    <tr>\n",
       "      <th>3</th>\n",
       "      <td>Angola</td>\n",
       "      <td>8.853861e+10</td>\n",
       "    </tr>\n",
       "    <tr>\n",
       "      <th>4</th>\n",
       "      <td>Albania</td>\n",
       "      <td>1.288135e+10</td>\n",
       "    </tr>\n",
       "  </tbody>\n",
       "</table>\n",
       "</div>"
      ],
      "text/plain": [
       "  country_name          2008\n",
       "0        Aruba  2.791961e+09\n",
       "1      Andorra  4.001349e+09\n",
       "2  Afghanistan  1.019053e+10\n",
       "3       Angola  8.853861e+10\n",
       "4      Albania  1.288135e+10"
      ]
     },
     "execution_count": 19,
     "metadata": {},
     "output_type": "execute_result"
    }
   ],
   "source": [
    "#selecting gdp of 2008 and cleaning it to use it in analysis\n",
    "gdpData ['2008']= gdpData['_2008'].apply(pd.to_numeric, errors='coerce')  #works fine \n",
    "\n",
    "#dataframe selecting country and gdp on 2008\n",
    "gdpData_new=gdpData[['country_name', '2008']]\n",
    "gdpData_new.head()"
   ]
  },
  {
   "cell_type": "code",
   "execution_count": 20,
   "metadata": {
    "collapsed": false
   },
   "outputs": [
    {
     "data": {
      "text/html": [
       "<div>\n",
       "<table border=\"1\" class=\"dataframe\">\n",
       "  <thead>\n",
       "    <tr style=\"text-align: right;\">\n",
       "      <th></th>\n",
       "      <th>country</th>\n",
       "      <th>2008</th>\n",
       "    </tr>\n",
       "  </thead>\n",
       "  <tbody>\n",
       "    <tr>\n",
       "      <th>0</th>\n",
       "      <td>Aruba</td>\n",
       "      <td>2.791961e+09</td>\n",
       "    </tr>\n",
       "    <tr>\n",
       "      <th>1</th>\n",
       "      <td>Andorra</td>\n",
       "      <td>4.001349e+09</td>\n",
       "    </tr>\n",
       "    <tr>\n",
       "      <th>2</th>\n",
       "      <td>Afghanistan</td>\n",
       "      <td>1.019053e+10</td>\n",
       "    </tr>\n",
       "    <tr>\n",
       "      <th>3</th>\n",
       "      <td>Angola</td>\n",
       "      <td>8.853861e+10</td>\n",
       "    </tr>\n",
       "    <tr>\n",
       "      <th>4</th>\n",
       "      <td>Albania</td>\n",
       "      <td>1.288135e+10</td>\n",
       "    </tr>\n",
       "  </tbody>\n",
       "</table>\n",
       "</div>"
      ],
      "text/plain": [
       "       country          2008\n",
       "0        Aruba  2.791961e+09\n",
       "1      Andorra  4.001349e+09\n",
       "2  Afghanistan  1.019053e+10\n",
       "3       Angola  8.853861e+10\n",
       "4      Albania  1.288135e+10"
      ]
     },
     "execution_count": 20,
     "metadata": {},
     "output_type": "execute_result"
    }
   ],
   "source": [
    "#df=df.rename(columns = {'two':'new_name'})\n",
    "#renaming the country_name as country to match with other table so that pandas df tools can be used\n",
    "gdpData_new=gdpData_new.rename(columns = {'country_name':'country'})\n",
    "gdpData_new.head()"
   ]
  },
  {
   "cell_type": "code",
   "execution_count": 23,
   "metadata": {
    "collapsed": false,
    "scrolled": false
   },
   "outputs": [
    {
     "data": {
      "text/html": [
       "<div>\n",
       "<table border=\"1\" class=\"dataframe\">\n",
       "  <thead>\n",
       "    <tr style=\"text-align: right;\">\n",
       "      <th></th>\n",
       "      <th>country</th>\n",
       "      <th>year</th>\n",
       "      <th>avg</th>\n",
       "      <th>male</th>\n",
       "      <th>female</th>\n",
       "      <th>2008</th>\n",
       "    </tr>\n",
       "  </thead>\n",
       "  <tbody>\n",
       "    <tr>\n",
       "      <th>0</th>\n",
       "      <td>Afghanistan</td>\n",
       "      <td>2004.0</td>\n",
       "      <td>8.0</td>\n",
       "      <td>11.0</td>\n",
       "      <td>5.0</td>\n",
       "      <td>1.019053e+10</td>\n",
       "    </tr>\n",
       "    <tr>\n",
       "      <th>1</th>\n",
       "      <td>Albania</td>\n",
       "      <td>2004.0</td>\n",
       "      <td>11.0</td>\n",
       "      <td>11.0</td>\n",
       "      <td>11.0</td>\n",
       "      <td>1.288135e+10</td>\n",
       "    </tr>\n",
       "    <tr>\n",
       "      <th>2</th>\n",
       "      <td>Algeria</td>\n",
       "      <td>2005.0</td>\n",
       "      <td>13.0</td>\n",
       "      <td>13.0</td>\n",
       "      <td>13.0</td>\n",
       "      <td>1.710007e+11</td>\n",
       "    </tr>\n",
       "    <tr>\n",
       "      <th>3</th>\n",
       "      <td>Andorra</td>\n",
       "      <td>2008.0</td>\n",
       "      <td>11.0</td>\n",
       "      <td>11.0</td>\n",
       "      <td>12.0</td>\n",
       "      <td>4.001349e+09</td>\n",
       "    </tr>\n",
       "    <tr>\n",
       "      <th>4</th>\n",
       "      <td>Antigua and Barbuda</td>\n",
       "      <td>2000.0</td>\n",
       "      <td>14.0</td>\n",
       "      <td>12.0</td>\n",
       "      <td>16.0</td>\n",
       "      <td>1.347350e+09</td>\n",
       "    </tr>\n",
       "  </tbody>\n",
       "</table>\n",
       "</div>"
      ],
      "text/plain": [
       "               country    year   avg  male  female          2008\n",
       "0          Afghanistan  2004.0   8.0  11.0     5.0  1.019053e+10\n",
       "1              Albania  2004.0  11.0  11.0    11.0  1.288135e+10\n",
       "2              Algeria  2005.0  13.0  13.0    13.0  1.710007e+11\n",
       "3              Andorra  2008.0  11.0  11.0    12.0  4.001349e+09\n",
       "4  Antigua and Barbuda  2000.0  14.0  12.0    16.0  1.347350e+09"
      ]
     },
     "execution_count": 23,
     "metadata": {},
     "output_type": "execute_result"
    }
   ],
   "source": [
    "#pd.merge(df_new, df_n, on='subject_id')\n",
    "#merging 2 tables at country with same name and dropping countries which does not have gdp or schooling details\n",
    "edu_gdp=pd.merge(scrapData, gdpData_new, on='country' )\n",
    "edu_gdp.dropna(inplace=True)\n",
    "edu_gdp.head()"
   ]
  },
  {
   "cell_type": "code",
   "execution_count": 25,
   "metadata": {
    "collapsed": false,
    "scrolled": true
   },
   "outputs": [
    {
     "data": {
      "text/html": [
       "<div>\n",
       "<table border=\"1\" class=\"dataframe\">\n",
       "  <thead>\n",
       "    <tr style=\"text-align: right;\">\n",
       "      <th></th>\n",
       "      <th>country</th>\n",
       "      <th>year</th>\n",
       "      <th>avg</th>\n",
       "      <th>male</th>\n",
       "      <th>female</th>\n",
       "      <th>2008</th>\n",
       "      <th>const</th>\n",
       "      <th>gdp_log</th>\n",
       "    </tr>\n",
       "  </thead>\n",
       "  <tbody>\n",
       "    <tr>\n",
       "      <th>0</th>\n",
       "      <td>Afghanistan</td>\n",
       "      <td>2004.0</td>\n",
       "      <td>8.0</td>\n",
       "      <td>11.0</td>\n",
       "      <td>5.0</td>\n",
       "      <td>1.019053e+10</td>\n",
       "      <td>1.0</td>\n",
       "      <td>23.044725</td>\n",
       "    </tr>\n",
       "    <tr>\n",
       "      <th>1</th>\n",
       "      <td>Albania</td>\n",
       "      <td>2004.0</td>\n",
       "      <td>11.0</td>\n",
       "      <td>11.0</td>\n",
       "      <td>11.0</td>\n",
       "      <td>1.288135e+10</td>\n",
       "      <td>1.0</td>\n",
       "      <td>23.279047</td>\n",
       "    </tr>\n",
       "    <tr>\n",
       "      <th>2</th>\n",
       "      <td>Algeria</td>\n",
       "      <td>2005.0</td>\n",
       "      <td>13.0</td>\n",
       "      <td>13.0</td>\n",
       "      <td>13.0</td>\n",
       "      <td>1.710007e+11</td>\n",
       "      <td>1.0</td>\n",
       "      <td>25.864933</td>\n",
       "    </tr>\n",
       "    <tr>\n",
       "      <th>3</th>\n",
       "      <td>Andorra</td>\n",
       "      <td>2008.0</td>\n",
       "      <td>11.0</td>\n",
       "      <td>11.0</td>\n",
       "      <td>12.0</td>\n",
       "      <td>4.001349e+09</td>\n",
       "      <td>1.0</td>\n",
       "      <td>22.109897</td>\n",
       "    </tr>\n",
       "    <tr>\n",
       "      <th>4</th>\n",
       "      <td>Antigua and Barbuda</td>\n",
       "      <td>2000.0</td>\n",
       "      <td>14.0</td>\n",
       "      <td>12.0</td>\n",
       "      <td>16.0</td>\n",
       "      <td>1.347350e+09</td>\n",
       "      <td>1.0</td>\n",
       "      <td>21.021405</td>\n",
       "    </tr>\n",
       "  </tbody>\n",
       "</table>\n",
       "</div>"
      ],
      "text/plain": [
       "               country    year   avg  male  female          2008  const  \\\n",
       "0          Afghanistan  2004.0   8.0  11.0     5.0  1.019053e+10    1.0   \n",
       "1              Albania  2004.0  11.0  11.0    11.0  1.288135e+10    1.0   \n",
       "2              Algeria  2005.0  13.0  13.0    13.0  1.710007e+11    1.0   \n",
       "3              Andorra  2008.0  11.0  11.0    12.0  4.001349e+09    1.0   \n",
       "4  Antigua and Barbuda  2000.0  14.0  12.0    16.0  1.347350e+09    1.0   \n",
       "\n",
       "     gdp_log  \n",
       "0  23.044725  \n",
       "1  23.279047  \n",
       "2  25.864933  \n",
       "3  22.109897  \n",
       "4  21.021405  "
      ]
     },
     "execution_count": 25,
     "metadata": {},
     "output_type": "execute_result"
    }
   ],
   "source": [
    "import numpy as np\n",
    "#adding a const column and gdp_log column\n",
    "edu_gdp['const'] = 1\n",
    "edu_gdp['const']=edu_gdp['const'].astype(float)\n",
    "edu_gdp['gdp_log']=np.log(edu_gdp['2008'])\n",
    "#edu_gdp['avg']#(dtype)\n",
    "edu_gdp.head()"
   ]
  },
  {
   "cell_type": "code",
   "execution_count": 26,
   "metadata": {
    "collapsed": false,
    "scrolled": true
   },
   "outputs": [
    {
     "data": {
      "text/plain": [
       "<matplotlib.collections.PathCollection at 0x1fe786146d8>"
      ]
     },
     "execution_count": 26,
     "metadata": {},
     "output_type": "execute_result"
    },
    {
     "data": {
      "image/png": "[encoded data removed]",
      "text/plain": [
       "<matplotlib.figure.Figure at 0x1fe7843cf98>"
      ]
     },
     "metadata": {},
     "output_type": "display_data"
    }
   ],
   "source": [
    "import matplotlib.pyplot as plt\n",
    "%matplotlib inline\n",
    "colors = np.random.rand(len(edu_gdp))\n",
    "plt.scatter(edu_gdp['gdp_log'], edu_gdp['avg'], c=colors)"
   ]
  },
  {
   "cell_type": "code",
   "execution_count": 30,
   "metadata": {
    "collapsed": false
   },
   "outputs": [],
   "source": [
    "ind_vars=['const', 'avg']\n"
   ]
  },
  {
   "cell_type": "code",
   "execution_count": 31,
   "metadata": {
    "collapsed": false
   },
   "outputs": [
    {
     "name": "stdout",
     "output_type": "stream",
     "text": [
      "                            OLS Regression Results                            \n",
      "==============================================================================\n",
      "Dep. Variable:                   2008   R-squared:                       0.056\n",
      "Model:                            OLS   Adj. R-squared:                  0.050\n",
      "Method:                 Least Squares   F-statistic:                     8.626\n",
      "Date:                Thu, 12 Jan 2017   Prob (F-statistic):            0.00386\n",
      "Time:                        03:42:29   Log-Likelihood:                -4209.7\n",
      "No. Observations:                 147   AIC:                             8423.\n",
      "Df Residuals:                     145   BIC:                             8429.\n",
      "Df Model:                           1                                         \n",
      "Covariance Type:            nonrobust                                         \n",
      "==============================================================================\n",
      "                 coef    std err          t      P>|t|      [95.0% Conf. Int.]\n",
      "------------------------------------------------------------------------------\n",
      "const      -3.981e+11    2.3e+11     -1.732      0.085     -8.52e+11  5.62e+10\n",
      "avg         5.257e+10   1.79e+10      2.937      0.004      1.72e+10   8.8e+10\n",
      "==============================================================================\n",
      "Omnibus:                      178.195   Durbin-Watson:                   2.203\n",
      "Prob(Omnibus):                  0.000   Jarque-Bera (JB):             4793.776\n",
      "Skew:                           4.759   Prob(JB):                         0.00\n",
      "Kurtosis:                      29.307   Cond. No.                         54.0\n",
      "==============================================================================\n",
      "\n",
      "Warnings:\n",
      "[1] Standard Errors assume that the covariance matrix of the errors is correctly specified.\n"
     ]
    }
   ],
   "source": [
    "#using regular values not taking log\n",
    "import statsmodels.api as sm\n",
    "model = sm.OLS(edu_gdp['2008'], edu_gdp[ind_vars])\n",
    "results = model.fit()\n",
    "print (results.summary())"
   ]
  },
  {
   "cell_type": "code",
   "execution_count": 32,
   "metadata": {
    "collapsed": false,
    "scrolled": true
   },
   "outputs": [
    {
     "name": "stdout",
     "output_type": "stream",
     "text": [
      "                            OLS Regression Results                            \n",
      "==============================================================================\n",
      "Dep. Variable:                gdp_log   R-squared:                       0.195\n",
      "Model:                            OLS   Adj. R-squared:                  0.189\n",
      "Method:                 Least Squares   F-statistic:                     35.06\n",
      "Date:                Thu, 12 Jan 2017   Prob (F-statistic):           2.22e-08\n",
      "Time:                        03:42:34   Log-Likelihood:                -321.07\n",
      "No. Observations:                 147   AIC:                             646.1\n",
      "Df Residuals:                     145   BIC:                             652.1\n",
      "Df Model:                           1                                         \n",
      "Covariance Type:            nonrobust                                         \n",
      "==============================================================================\n",
      "                 coef    std err          t      P>|t|      [95.0% Conf. Int.]\n",
      "------------------------------------------------------------------------------\n",
      "const         19.7326      0.746     26.437      0.000        18.257    21.208\n",
      "avg            0.3441      0.058      5.921      0.000         0.229     0.459\n",
      "==============================================================================\n",
      "Omnibus:                        4.058   Durbin-Watson:                   2.209\n",
      "Prob(Omnibus):                  0.131   Jarque-Bera (JB):                3.540\n",
      "Skew:                          -0.345   Prob(JB):                        0.170\n",
      "Kurtosis:                       3.317   Cond. No.                         54.0\n",
      "==============================================================================\n",
      "\n",
      "Warnings:\n",
      "[1] Standard Errors assume that the covariance matrix of the errors is correctly specified.\n"
     ]
    }
   ],
   "source": [
    "'''ind_vars=['const', 'avg']\n",
    "import statsmodels.api as sm\n",
    "logit = sm.Logit(edu_gdp['2008'], edu_gdp[ind_vars])\n",
    "result= logit.fit()\n",
    "result\n",
    "error - ValueError: endog must be in the unit interval\n",
    "Meaning: dependant variable ie gdp should be expressed in terms of probality ie between 0 and 1'''\n",
    "#fillting ols with log values of gdp\n",
    "model = sm.OLS(edu_gdp['gdp_log'], edu_gdp[ind_vars])\n",
    "results = model.fit()\n",
    "print (results.summary())\n"
   ]
  },
  {
   "cell_type": "markdown",
   "metadata": {},
   "source": [
    "Summary:\n",
    "Apparently there is poor correlation between average schooling (male and female) and gdp as r-squared is only 0.19.\n",
    "One explanation could be single reading of GDP and schooling is taken without considering the incremental effects. GDP could lead by few years and vice versa in real scenario. From scatter plot the gdp and schooling are spread all over with wide band some are significantly away from central region.\n",
    "Cross sectional evaluation of gdp and schooling correlates only poorly but longitudinal studies might result in better correlation."
   ]
  },
  {
   "cell_type": "code",
   "execution_count": 33,
   "metadata": {
    "collapsed": false
   },
   "outputs": [
    {
     "name": "stdout",
     "output_type": "stream",
     "text": [
      "                            OLS Regression Results                            \n",
      "==============================================================================\n",
      "Dep. Variable:                      y   R-squared:                       0.195\n",
      "Model:                            OLS   Adj. R-squared:                  0.189\n",
      "Method:                 Least Squares   F-statistic:                     35.06\n",
      "Date:                Thu, 12 Jan 2017   Prob (F-statistic):           2.22e-08\n",
      "Time:                        03:42:44   Log-Likelihood:                -321.07\n",
      "No. Observations:                 147   AIC:                             646.1\n",
      "Df Residuals:                     145   BIC:                             652.1\n",
      "Df Model:                           1                                         \n",
      "Covariance Type:            nonrobust                                         \n",
      "==============================================================================\n",
      "                 coef    std err          t      P>|t|      [95.0% Conf. Int.]\n",
      "------------------------------------------------------------------------------\n",
      "const         19.7326      0.746     26.437      0.000        18.257    21.208\n",
      "x1             0.3441      0.058      5.921      0.000         0.229     0.459\n",
      "==============================================================================\n",
      "Omnibus:                        4.058   Durbin-Watson:                   2.209\n",
      "Prob(Omnibus):                  0.131   Jarque-Bera (JB):                3.540\n",
      "Skew:                          -0.345   Prob(JB):                        0.170\n",
      "Kurtosis:                       3.317   Cond. No.                         54.0\n",
      "==============================================================================\n",
      "\n",
      "Warnings:\n",
      "[1] Standard Errors assume that the covariance matrix of the errors is correctly specified.\n"
     ]
    }
   ],
   "source": [
    "gdp = edu_gdp['gdp_log'].map(lambda x: float(x))\n",
    "school_years = edu_gdp['avg'].map(lambda x: int(x))\n",
    "\n",
    "y = np.matrix(gdp).transpose()\n",
    "x = np.matrix(school_years).transpose()\n",
    "\n",
    "X = sm.add_constant(x)\n",
    "model = sm.OLS(y,X)\n",
    "results = model.fit()\n",
    "print (results.summary())"
   ]
  }
 ],
 "metadata": {
  "anaconda-cloud": {},
  "kernelspec": {
   "display_name": "Python [conda root]",
   "language": "python",
   "name": "conda-root-py"
  },
  "language_info": {
   "codemirror_mode": {
    "name": "ipython",
    "version": 3
   },
   "file_extension": ".py",
   "mimetype": "text/x-python",
   "name": "python",
   "nbconvert_exporter": "python",
   "pygments_lexer": "ipython3",
   "version": "3.5.2"
  }
 },
 "nbformat": 4,
 "nbformat_minor": 1
}
